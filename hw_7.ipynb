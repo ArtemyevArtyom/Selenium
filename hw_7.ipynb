{
 "cells": [
  {
   "cell_type": "code",
   "execution_count": 1,
   "metadata": {},
   "outputs": [],
   "source": [
    "#!pip install selenium\n",
    "from selenium import webdriver\n",
    "from selenium.webdriver.support.ui import WebDriverWait\n",
    "from selenium.webdriver.support import expected_conditions as EC\n",
    "from selenium.webdriver.common.action_chains import ActionChains\n",
    "import time"
   ]
  },
  {
   "cell_type": "code",
   "execution_count": 2,
   "metadata": {},
   "outputs": [],
   "source": [
    "from selenium.webdriver.chrome.options import Options\n",
    "\n",
    "options = Options()\n",
    "# вывод на полный экран\n",
    "options.add_argument('start-maximized')\n",
    "\n",
    "driver = webdriver.Chrome(options=options)\n",
    "\n",
    "driver.get('https://www.wildberries.ru/')\n",
    "time.sleep(3)"
   ]
  },
  {
   "cell_type": "code",
   "execution_count": 3,
   "metadata": {},
   "outputs": [],
   "source": [
    "from selenium.webdriver.common.by import By\n",
    "from selenium.webdriver.common.keys import Keys\n",
    "\n",
    "input = driver.find_element(By.ID, 'searchInput')\n",
    "input.send_keys('ремешок apple watch series 9 45 мм')\n",
    "input.send_keys(Keys.ENTER)\n",
    "time.sleep(2)"
   ]
  },
  {
   "cell_type": "markdown",
   "metadata": {},
   "source": [
    "Процесс парсинга состоит из 3 операций: скролинг, запись данных и пагинации (переход между страницами). Каждое из действий можно описать в виде функции."
   ]
  },
  {
   "cell_type": "markdown",
   "metadata": {},
   "source": [
    "функция для скролинга:"
   ]
  },
  {
   "cell_type": "code",
   "execution_count": 4,
   "metadata": {},
   "outputs": [],
   "source": [
    "def scrolling():\n",
    "    while True:\n",
    "        #  ожидание загрузки всех карточек\n",
    "        wait = WebDriverWait(driver, timeout=20)\n",
    "        # поиск карточек\n",
    "        cards = wait.until(EC.presence_of_all_elements_located((By.XPATH, '//div[@class=\"product-card-list\"]/article')))\n",
    "        # определение их количества\n",
    "        count = len(cards)\n",
    "        # выполнение кода из JavaScript\n",
    "        driver.execute_script('window.scrollBy(0,2000)')    # прокрутка вниз на 1000 пикселей\n",
    "        \n",
    "        time.sleep(1)\n",
    "        # вполнение подсчета карточек после скроллинга\n",
    "        cards = driver.find_elements(By.XPATH, '//div[@class=\"product-card-list\"]/article')\n",
    "        \n",
    "        # если кол-во карточек не меняется, производится выход из цикла\n",
    "        if len(cards) == count:\n",
    "            break\n",
    "    \n",
    "    return cards"
   ]
  },
  {
   "cell_type": "code",
   "execution_count": 5,
   "metadata": {},
   "outputs": [],
   "source": [
    "# функция перехода на следующую страницу\n",
    "def pagination():\n",
    "    \n",
    "    button = driver.find_element(By.XPATH, '//a[@class=\"pagination-next pagination__next j-next-page\"]')\n",
    "    actions = ActionChains(driver)\n",
    "    actions.move_to_element(button).click()\n",
    "    actions.perform()\n",
    "    "
   ]
  },
  {
   "cell_type": "markdown",
   "metadata": {},
   "source": [
    "функция добавления значений принимает два аргумента:\n",
    "* values - список карточек на странице\n",
    "* list_result - список словарей с информацией о товаре\n"
   ]
  },
  {
   "cell_type": "code",
   "execution_count": 6,
   "metadata": {},
   "outputs": [],
   "source": [
    "def value_addition(values, list_result):\n",
    "    for value in values:\n",
    "        price = value.find_element(By.CLASS_NAME, 'price__lower-price').text\n",
    "        name = value.find_element(By.XPATH, './/div/a').get_attribute('aria-label')\n",
    "        url = value.find_element(By.XPATH, './/div/a').get_attribute('href')\n",
    "        list_result.append({\n",
    "            'name': name,\n",
    "            'url': url,\n",
    "            'price': price\n",
    "        })\n",
    "    return list_result"
   ]
  },
  {
   "cell_type": "code",
   "execution_count": 7,
   "metadata": {},
   "outputs": [
    {
     "name": "stdout",
     "output_type": "stream",
     "text": [
      "Скролинг 1 страницы завершен\n",
      "Данные 1 страницы записаны\n",
      "Перешли на 2 страницу\n",
      "Скролинг 2 страницы завершен\n",
      "Данные 2 страницы записаны\n",
      "Перешли на 3 страницу\n",
      "Скролинг 3 страницы завершен\n",
      "Данные 3 страницы записаны\n",
      "Перешли на 4 страницу\n",
      "Скролинг 4 страницы завершен\n",
      "Данные 4 страницы записаны\n",
      "Message: no such element: Unable to locate element: {\"method\":\"xpath\",\"selector\":\"//a[@class=\"pagination-next pagination__next j-next-page\"]\"}\n",
      "  (Session info: chrome=125.0.6422.141); For documentation on this error, please visit: https://www.selenium.dev/documentation/webdriver/troubleshooting/errors#no-such-element-exception\n",
      "Stacktrace:\n",
      "\tGetHandleVerifier [0x00007FF726991F52+60322]\n",
      "\t(No symbol) [0x00007FF72690CEC9]\n",
      "\t(No symbol) [0x00007FF7267C7EBA]\n",
      "\t(No symbol) [0x00007FF726817676]\n",
      "\t(No symbol) [0x00007FF72681773C]\n",
      "\t(No symbol) [0x00007FF72685E967]\n",
      "\t(No symbol) [0x00007FF72683C25F]\n",
      "\t(No symbol) [0x00007FF72685BC80]\n",
      "\t(No symbol) [0x00007FF72683BFC3]\n",
      "\t(No symbol) [0x00007FF726809617]\n",
      "\t(No symbol) [0x00007FF72680A211]\n",
      "\tGetHandleVerifier [0x00007FF726CA94AD+3301629]\n",
      "\tGetHandleVerifier [0x00007FF726CF36D3+3605283]\n",
      "\tGetHandleVerifier [0x00007FF726CE9450+3563680]\n",
      "\tGetHandleVerifier [0x00007FF726A44326+790390]\n",
      "\t(No symbol) [0x00007FF72691750F]\n",
      "\t(No symbol) [0x00007FF726913404]\n",
      "\t(No symbol) [0x00007FF726913592]\n",
      "\t(No symbol) [0x00007FF726902F9F]\n",
      "\tBaseThreadInitThunk [0x00007FFD94057344+20]\n",
      "\tRtlUserThreadStart [0x00007FFD95AA26B1+33]\n",
      "\n"
     ]
    }
   ],
   "source": [
    "card_list = []\n",
    "page = 1\n",
    "\n",
    "while True:\n",
    "    # скролинг страницы\n",
    "    cards = scrolling()\n",
    "    print(f'Скролинг {page} страницы завершен')\n",
    "    time.sleep(1)\n",
    "    # проверка на заполненность страницы (столкнулся с проблемой, что появляются страницы с 1 акционным товаром)\n",
    "    if len(cards) > 1:\n",
    "        # если список полный, то записываются данные\n",
    "        value_addition(cards, card_list)\n",
    "        print(f'Данные {page} страницы записаны')\n",
    "        time.sleep(0.5)\n",
    "\n",
    "        page += 1\n",
    "    else:\n",
    "        # если нет, страница перезагружается (одно раза бывает недостаточно)\n",
    "        driver.refresh()\n",
    "        print(f'Страницу {page} пришлось обновить')\n",
    "        time.sleep(2)\n",
    "        # и завершаем итерацию\n",
    "        continue\n",
    "    # переход на следующую страницу\n",
    "    try:\n",
    "        pagination()\n",
    "        # если кнопка есть, то перешли\n",
    "        print(f'Перешли на {page} страницу')\n",
    "        time.sleep(0.5)\n",
    "    except Exception as e:\n",
    "        # если кнопки нет, завершаем цикл и выходим\n",
    "        print(e)\n",
    "        break\n",
    "\n"
   ]
  },
  {
   "cell_type": "code",
   "execution_count": 8,
   "metadata": {},
   "outputs": [],
   "source": [
    "driver.quit()"
   ]
  },
  {
   "cell_type": "code",
   "execution_count": 10,
   "metadata": {},
   "outputs": [
    {
     "name": "stdout",
     "output_type": "stream",
     "text": [
      "[{'name': 'Ремешок Watch Ultra 49mm Ocean Band Apple',\n",
      "  'price': '13 160 ₽',\n",
      "  'url': 'https://www.wildberries.ru/catalog/233807672/detail.aspx'},\n",
      " {'name': 'Ремешок Watch Ultra Trail Loop 49mm Apple',\n",
      "  'price': '13 160 ₽',\n",
      "  'url': 'https://www.wildberries.ru/catalog/233835402/detail.aspx'},\n",
      " {'name': 'Ремешок Watch Ultra Trail Loop 49mm Apple',\n",
      "  'price': '13 160 ₽',\n",
      "  'url': 'https://www.wildberries.ru/catalog/233838308/detail.aspx'},\n",
      " {'name': 'Ремешок Watch Ultra 49mm Ocean Band Apple',\n",
      "  'price': '13 160 ₽',\n",
      "  'url': 'https://www.wildberries.ru/catalog/233808405/detail.aspx'},\n",
      " {'name': 'Ремешок Watch Ultra 49mm Ocean Band Apple',\n",
      "  'price': '13 160 ₽',\n",
      "  'url': 'https://www.wildberries.ru/catalog/233806747/detail.aspx'},\n",
      " {'name': 'Ремешок Watch Ultra Trail Loop 49mm Apple',\n",
      "  'price': '13 160 ₽',\n",
      "  'url': 'https://www.wildberries.ru/catalog/233821733/detail.aspx'}]\n"
     ]
    }
   ],
   "source": [
    "from pprint import pprint\n",
    "pprint(card_list)"
   ]
  },
  {
   "cell_type": "code",
   "execution_count": 9,
   "metadata": {},
   "outputs": [
    {
     "data": {
      "text/plain": [
       "330"
      ]
     },
     "execution_count": 9,
     "metadata": {},
     "output_type": "execute_result"
    }
   ],
   "source": [
    "len(card_list)"
   ]
  },
  {
   "cell_type": "markdown",
   "metadata": {},
   "source": [
    "Представляем данные в виде датафрейма"
   ]
  },
  {
   "cell_type": "code",
   "execution_count": 10,
   "metadata": {},
   "outputs": [
    {
     "data": {
      "text/html": [
       "<div>\n",
       "<style scoped>\n",
       "    .dataframe tbody tr th:only-of-type {\n",
       "        vertical-align: middle;\n",
       "    }\n",
       "\n",
       "    .dataframe tbody tr th {\n",
       "        vertical-align: top;\n",
       "    }\n",
       "\n",
       "    .dataframe thead th {\n",
       "        text-align: right;\n",
       "    }\n",
       "</style>\n",
       "<table border=\"1\" class=\"dataframe\">\n",
       "  <thead>\n",
       "    <tr style=\"text-align: right;\">\n",
       "      <th></th>\n",
       "      <th>name</th>\n",
       "      <th>url</th>\n",
       "      <th>price</th>\n",
       "    </tr>\n",
       "  </thead>\n",
       "  <tbody>\n",
       "    <tr>\n",
       "      <th>0</th>\n",
       "      <td>Ремешок для Apple Watch 42 44 45 мм Миланская ...</td>\n",
       "      <td>https://www.wildberries.ru/catalog/115486133/d...</td>\n",
       "      <td>320 ₽</td>\n",
       "    </tr>\n",
       "    <tr>\n",
       "      <th>1</th>\n",
       "      <td>Ремешок для Apple Watch 42 44 45 мм Миланская ...</td>\n",
       "      <td>https://www.wildberries.ru/catalog/113408542/d...</td>\n",
       "      <td>313 ₽</td>\n",
       "    </tr>\n",
       "    <tr>\n",
       "      <th>2</th>\n",
       "      <td>Ремешок для Apple Watch 42 44 45 49 мм Bandside</td>\n",
       "      <td>https://www.wildberries.ru/catalog/91967002/de...</td>\n",
       "      <td>250 ₽</td>\n",
       "    </tr>\n",
       "    <tr>\n",
       "      <th>3</th>\n",
       "      <td>Ремешок для Apple Watch 42 44 45 49 mm Ultra O...</td>\n",
       "      <td>https://www.wildberries.ru/catalog/151325021/d...</td>\n",
       "      <td>299 ₽</td>\n",
       "    </tr>\n",
       "    <tr>\n",
       "      <th>4</th>\n",
       "      <td>Ремешок для Apple Watch 42 44 45 49 мм Bandside</td>\n",
       "      <td>https://www.wildberries.ru/catalog/90569083/de...</td>\n",
       "      <td>286 ₽</td>\n",
       "    </tr>\n",
       "    <tr>\n",
       "      <th>...</th>\n",
       "      <td>...</td>\n",
       "      <td>...</td>\n",
       "      <td>...</td>\n",
       "    </tr>\n",
       "    <tr>\n",
       "      <th>325</th>\n",
       "      <td>Ремешок для Apple Watch 42 44 45 49 мм BRIONDA</td>\n",
       "      <td>https://www.wildberries.ru/catalog/225059960/d...</td>\n",
       "      <td>763 ₽</td>\n",
       "    </tr>\n",
       "    <tr>\n",
       "      <th>326</th>\n",
       "      <td>Ремешок для Apple Watch 42 44 45 49 мм BRIONDA</td>\n",
       "      <td>https://www.wildberries.ru/catalog/225059941/d...</td>\n",
       "      <td>698 ₽</td>\n",
       "    </tr>\n",
       "    <tr>\n",
       "      <th>327</th>\n",
       "      <td>Тканевый ремешок для Apple Watch 42 44 45 49 м...</td>\n",
       "      <td>https://www.wildberries.ru/catalog/231064005/d...</td>\n",
       "      <td>887 ₽</td>\n",
       "    </tr>\n",
       "    <tr>\n",
       "      <th>328</th>\n",
       "      <td>Ремешок для Apple Watch 42, 44, 45, 49 mm Яблоко</td>\n",
       "      <td>https://www.wildberries.ru/catalog/216390737/d...</td>\n",
       "      <td>642 ₽</td>\n",
       "    </tr>\n",
       "    <tr>\n",
       "      <th>329</th>\n",
       "      <td>Ремешок для Apple Watch 42, 44, 45, 49 mm Яблоко</td>\n",
       "      <td>https://www.wildberries.ru/catalog/216373024/d...</td>\n",
       "      <td>642 ₽</td>\n",
       "    </tr>\n",
       "  </tbody>\n",
       "</table>\n",
       "<p>330 rows × 3 columns</p>\n",
       "</div>"
      ],
      "text/plain": [
       "                                                  name  \\\n",
       "0    Ремешок для Apple Watch 42 44 45 мм Миланская ...   \n",
       "1    Ремешок для Apple Watch 42 44 45 мм Миланская ...   \n",
       "2      Ремешок для Apple Watch 42 44 45 49 мм Bandside   \n",
       "3    Ремешок для Apple Watch 42 44 45 49 mm Ultra O...   \n",
       "4      Ремешок для Apple Watch 42 44 45 49 мм Bandside   \n",
       "..                                                 ...   \n",
       "325     Ремешок для Apple Watch 42 44 45 49 мм BRIONDA   \n",
       "326     Ремешок для Apple Watch 42 44 45 49 мм BRIONDA   \n",
       "327  Тканевый ремешок для Apple Watch 42 44 45 49 м...   \n",
       "328   Ремешок для Apple Watch 42, 44, 45, 49 mm Яблоко   \n",
       "329   Ремешок для Apple Watch 42, 44, 45, 49 mm Яблоко   \n",
       "\n",
       "                                                   url  price  \n",
       "0    https://www.wildberries.ru/catalog/115486133/d...  320 ₽  \n",
       "1    https://www.wildberries.ru/catalog/113408542/d...  313 ₽  \n",
       "2    https://www.wildberries.ru/catalog/91967002/de...  250 ₽  \n",
       "3    https://www.wildberries.ru/catalog/151325021/d...  299 ₽  \n",
       "4    https://www.wildberries.ru/catalog/90569083/de...  286 ₽  \n",
       "..                                                 ...    ...  \n",
       "325  https://www.wildberries.ru/catalog/225059960/d...  763 ₽  \n",
       "326  https://www.wildberries.ru/catalog/225059941/d...  698 ₽  \n",
       "327  https://www.wildberries.ru/catalog/231064005/d...  887 ₽  \n",
       "328  https://www.wildberries.ru/catalog/216390737/d...  642 ₽  \n",
       "329  https://www.wildberries.ru/catalog/216373024/d...  642 ₽  \n",
       "\n",
       "[330 rows x 3 columns]"
      ]
     },
     "execution_count": 10,
     "metadata": {},
     "output_type": "execute_result"
    }
   ],
   "source": [
    "#!pip install pandas\n",
    "import pandas as pd\n",
    "\n",
    "df = pd.DataFrame(card_list)\n",
    "df"
   ]
  },
  {
   "cell_type": "markdown",
   "metadata": {},
   "source": [
    "запись в csv-файл"
   ]
  },
  {
   "cell_type": "code",
   "execution_count": 11,
   "metadata": {},
   "outputs": [],
   "source": [
    "df.to_csv('result.csv', index=False)"
   ]
  },
  {
   "cell_type": "markdown",
   "metadata": {},
   "source": [
    "Вывод: при выполнении данной работы был выбран маркетплейс, с которого был произведён скрейпинг: https://www.wildberries.ru/. \n",
    "Я извлёк из данного сайта интересующую информацию о ремешках для Apple watch: Количество, цену, ссылки, заголовки объявлений. \n"
    "Для навигации по сайту были применены функции скроллинга (функционал Java Script) и перехода на следующую страницу.  \n"
    "Для более точной работы программы сделаны некоторые временные паузы с помощью модуля time. \n"
    "Данные были сохранены в формате CSV. \n"
    "Условия обслуживания сайта были соблюдены. \n"
   ]
  }
 ],
 "metadata": {
  "kernelspec": {
   "display_name": "Python 3",
   "language": "python",
   "name": "python3"
  },
  "language_info": {
   "codemirror_mode": {
    "name": "ipython",
    "version": 3
   },
   "file_extension": ".py",
   "mimetype": "text/x-python",
   "name": "python",
   "nbconvert_exporter": "python",
   "pygments_lexer": "ipython3",
   "version": "3.11.1"
  }
 },
 "nbformat": 4,
 "nbformat_minor": 2
}
